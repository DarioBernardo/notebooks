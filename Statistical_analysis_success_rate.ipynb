{
 "cells": [
  {
   "cell_type": "code",
   "execution_count": 115,
   "metadata": {},
   "outputs": [],
   "source": [
    "import numpy as np\n",
    "import pandas as pd\n",
    "import seaborn as sns\n",
    "import scipy.stats as stats\n",
    "import statsmodels.stats.api as sms\n",
    "\n",
    "from statsmodels.stats import proportion\n",
    "from matplotlib import pyplot as plt"
   ]
  },
  {
   "cell_type": "code",
   "execution_count": 41,
   "metadata": {},
   "outputs": [],
   "source": [
    "plt.rcParams['figure.figsize'] = [20, 10]\n",
    "plt.rcParams[\"font.size\"] = 18"
   ]
  },
  {
   "cell_type": "markdown",
   "metadata": {},
   "source": [
    "## Create some fake data"
   ]
  },
  {
   "cell_type": "markdown",
   "metadata": {},
   "source": [
    "Create a fake dataset, simulating a fake a/b test"
   ]
  },
  {
   "cell_type": "code",
   "execution_count": 141,
   "metadata": {},
   "outputs": [],
   "source": [
    "# Change these parameters to test different significants\n",
    "group_a_size = 1000\n",
    "group_a_probs = [0.6, 0.4]\n",
    "\n",
    "group_b_size = 1100\n",
    "group_b_probs = [0.45, 0.55]"
   ]
  },
  {
   "cell_type": "code",
   "execution_count": 196,
   "metadata": {},
   "outputs": [],
   "source": [
    "group_a_size = 1000\n",
    "group_a_probs = [0.52, 0.48]\n",
    "\n",
    "group_b_size = 500\n",
    "group_b_probs = [0.44, 0.56]"
   ]
  },
  {
   "cell_type": "code",
   "execution_count": 197,
   "metadata": {},
   "outputs": [],
   "source": [
    "outcomes = ['Success', 'Failure']\n",
    "\n",
    "group_a = np.random.choice(outcomes, size=group_a_size, p=group_a_probs)\n",
    "group_b = np.random.choice(outcomes, size=group_b_size, p=group_b_probs)\n",
    "\n",
    "experiment_results = pd.DataFrame({\n",
    "    'Outcome': np.concatenate([group_a, group_b]), \n",
    "    'Group':np.concatenate([['A']*len(group_a), ['B']*len(group_b)])\n",
    "                                })"
   ]
  },
  {
   "cell_type": "markdown",
   "metadata": {},
   "source": [
    "## Let's explore the data generated"
   ]
  },
  {
   "cell_type": "code",
   "execution_count": 198,
   "metadata": {},
   "outputs": [
    {
     "data": {
      "text/html": [
       "<div>\n",
       "<style scoped>\n",
       "    .dataframe tbody tr th:only-of-type {\n",
       "        vertical-align: middle;\n",
       "    }\n",
       "\n",
       "    .dataframe tbody tr th {\n",
       "        vertical-align: top;\n",
       "    }\n",
       "\n",
       "    .dataframe thead th {\n",
       "        text-align: right;\n",
       "    }\n",
       "</style>\n",
       "<table border=\"1\" class=\"dataframe\">\n",
       "  <thead>\n",
       "    <tr style=\"text-align: right;\">\n",
       "      <th>Outcome</th>\n",
       "      <th>Failure</th>\n",
       "      <th>Success</th>\n",
       "      <th>All</th>\n",
       "    </tr>\n",
       "    <tr>\n",
       "      <th>Group</th>\n",
       "      <th></th>\n",
       "      <th></th>\n",
       "      <th></th>\n",
       "    </tr>\n",
       "  </thead>\n",
       "  <tbody>\n",
       "    <tr>\n",
       "      <th>A</th>\n",
       "      <td>499</td>\n",
       "      <td>501</td>\n",
       "      <td>1000</td>\n",
       "    </tr>\n",
       "    <tr>\n",
       "      <th>B</th>\n",
       "      <td>274</td>\n",
       "      <td>226</td>\n",
       "      <td>500</td>\n",
       "    </tr>\n",
       "    <tr>\n",
       "      <th>All</th>\n",
       "      <td>773</td>\n",
       "      <td>727</td>\n",
       "      <td>1500</td>\n",
       "    </tr>\n",
       "  </tbody>\n",
       "</table>\n",
       "</div>"
      ],
      "text/plain": [
       "Outcome  Failure  Success   All\n",
       "Group                          \n",
       "A            499      501  1000\n",
       "B            274      226   500\n",
       "All          773      727  1500"
      ]
     },
     "execution_count": 198,
     "metadata": {},
     "output_type": "execute_result"
    }
   ],
   "source": [
    "pd.crosstab(experiment_results.Group, experiment_results.Outcome, margins=True)"
   ]
  },
  {
   "cell_type": "code",
   "execution_count": 199,
   "metadata": {},
   "outputs": [
    {
     "data": {
      "text/html": [
       "<style  type=\"text/css\" >\n",
       "</style><table id=\"T_a840140a_4be5_11e9_8e03_0242ac110004\" ><thead>    <tr>        <th class=\"index_name level0\" >Outcome</th>        <th class=\"col_heading level0 col0\" >Failure</th>        <th class=\"col_heading level0 col1\" >Success</th>    </tr>    <tr>        <th class=\"index_name level0\" >Group</th>        <th class=\"blank\" ></th>        <th class=\"blank\" ></th>    </tr></thead><tbody>\n",
       "                <tr>\n",
       "                        <th id=\"T_a840140a_4be5_11e9_8e03_0242ac110004level0_row0\" class=\"row_heading level0 row0\" >A</th>\n",
       "                        <td id=\"T_a840140a_4be5_11e9_8e03_0242ac110004row0_col0\" class=\"data row0 col0\" >49.90%</td>\n",
       "                        <td id=\"T_a840140a_4be5_11e9_8e03_0242ac110004row0_col1\" class=\"data row0 col1\" >50.10%</td>\n",
       "            </tr>\n",
       "            <tr>\n",
       "                        <th id=\"T_a840140a_4be5_11e9_8e03_0242ac110004level0_row1\" class=\"row_heading level0 row1\" >B</th>\n",
       "                        <td id=\"T_a840140a_4be5_11e9_8e03_0242ac110004row1_col0\" class=\"data row1 col0\" >54.80%</td>\n",
       "                        <td id=\"T_a840140a_4be5_11e9_8e03_0242ac110004row1_col1\" class=\"data row1 col1\" >45.20%</td>\n",
       "            </tr>\n",
       "    </tbody></table>"
      ],
      "text/plain": [
       "<pandas.io.formats.style.Styler at 0x7fdf399d3b00>"
      ]
     },
     "execution_count": 199,
     "metadata": {},
     "output_type": "execute_result"
    }
   ],
   "source": [
    "experiment_results.groupby('Group').Outcome.value_counts(normalize=True).unstack().style.format(\"{:.2%}\")"
   ]
  },
  {
   "cell_type": "code",
   "execution_count": 200,
   "metadata": {},
   "outputs": [
    {
     "data": {
      "image/png": "[encoded data removed]",
      "text/plain": [
       "<Figure size 1440x720 with 1 Axes>"
      ]
     },
     "metadata": {
      "needs_background": "light"
     },
     "output_type": "display_data"
    }
   ],
   "source": [
    "data = experiment_results.groupby(['Group','Outcome']).size().unstack()\n",
    "ax = data.plot(kind='bar')\n",
    "ax.set_title('Success rate per group')\n",
    "\n",
    "success_rates = experiment_results.groupby('Group').Outcome.value_counts(normalize=True).unstack()['Success']\n",
    "\n",
    "for index, rate in enumerate(success_rates):\n",
    "    low_CI, upper_CI = proportion.proportion_confint(data.iloc[index]['Success'], data.iloc[index].sum())\n",
    "    ax.text(index - 0.1, data.iloc[index].max() + 10, '{:.2%} (± {:.2%})'.format(rate, (upper_CI-low_CI)/2))"
   ]
  },
  {
   "cell_type": "markdown",
   "metadata": {},
   "source": [
    "## Checking if results are statistically significant\n",
    "Assuming that the data is real data, how can we test if the results are statistically significant? \n",
    "There are a few way to do this, I will explore three here."
   ]
  },
  {
   "cell_type": "markdown",
   "metadata": {},
   "source": [
    "**Method 1:**\n",
    "In the case of just two variants, the first method to verify statstical significance is to make sure that the the confidence interval calculated above are not overlapping!"
   ]
  },
  {
   "cell_type": "code",
   "execution_count": 201,
   "metadata": {},
   "outputs": [
    {
     "name": "stdout",
     "output_type": "stream",
     "text": [
      "Results are not significant!\n"
     ]
    }
   ],
   "source": [
    "variant_mean = None\n",
    "for index_label, row in data.iterrows():\n",
    "    low_CI, upper_CI = proportion.proportion_confint(row['Success'], row.sum())\n",
    "    if variant_mean is None:\n",
    "        variant_mean = (low_CI + upper_CI)/2\n",
    "        winning_variant_low_CI = low_CI\n",
    "        winning_variant_upper_CI = upper_CI\n",
    "    else: \n",
    "        if variant_mean < (low_CI + upper_CI)/2:\n",
    "            losing_variant_low_CI = winning_variant_low_CI\n",
    "            losing_variant_upper_CI = winning_variant_upper_CI\n",
    "            \n",
    "            winning_variant_low_CI = low_CI\n",
    "            winning_variant_upper_CI = upper_CI\n",
    "            \n",
    "            variant_mean = (low_CI + upper_CI)/2\n",
    "        else:\n",
    "            losing_variant_low_CI = low_CI\n",
    "            losing_variant_upper_CI = upper_CI\n",
    "            \n",
    "            variant_mean = (low_CI + upper_CI)/2\n",
    "            \n",
    "if winning_variant_low_CI > losing_variant_upper_CI:\n",
    "    print('Results are significant!')\n",
    "else:\n",
    "    print('Results are not significant!')"
   ]
  },
  {
   "cell_type": "markdown",
   "metadata": {},
   "source": [
    "**Method 2:** Chi-square test of independence of variables in a contingency table. This method generalise for more than one variant. If the numver of observation is small (less than 50 in total) then use fisher_exact"
   ]
  },
  {
   "cell_type": "code",
   "execution_count": 202,
   "metadata": {},
   "outputs": [
    {
     "name": "stdout",
     "output_type": "stream",
     "text": [
      "Results are not significant! chi-value: 3.204346843520395 p-value: 0.07344282776470556\n"
     ]
    }
   ],
   "source": [
    "obs = pd.crosstab(experiment_results.Group, experiment_results.Outcome).values\n",
    "chi2, p, dof, ex = stats.chi2_contingency(obs, correction=False)\n",
    "\n",
    "if p < 0.05:\n",
    "    print('Results are significant! chi-value: {} p-value: {}'.format(chi2, p))\n",
    "else:\n",
    "    print('Results are not significant! chi-value: {} p-value: {}'.format(chi2, p))"
   ]
  },
  {
   "cell_type": "markdown",
   "metadata": {},
   "source": [
    "**Method 3:** Difference of means. To be significant 0 must not be in the interval returned by the mothod "
   ]
  },
  {
   "cell_type": "code",
   "execution_count": 203,
   "metadata": {},
   "outputs": [],
   "source": [
    "X1 = (group_a == 'Success').astype(int)\n",
    "X2 = (group_b == 'Success').astype(int)"
   ]
  },
  {
   "cell_type": "code",
   "execution_count": 204,
   "metadata": {},
   "outputs": [
    {
     "name": "stdout",
     "output_type": "stream",
     "text": [
      "Difference of means interval (-0.004620023961940972, 0.10262002396194095)\n",
      "Results are not significant!\n"
     ]
    }
   ],
   "source": [
    "cm = sms.CompareMeans(sms.DescrStatsW(X1), sms.DescrStatsW(X2))\n",
    "interval = cm.tconfint_diff(usevar='unequal')\n",
    "print('Difference of means interval {}'.format(interval))\n",
    "\n",
    "if interval[0] > 0 > interval[1] or interval[0] < 0 < interval[1]:\n",
    "    print('Results are not significant!')\n",
    "else:\n",
    "    print('Results are significant!')"
   ]
  },
  {
   "cell_type": "markdown",
   "metadata": {},
   "source": [
    "GREAT! the three methods should always match and are three possible ways to look at statistical significance between experiment variants."
   ]
  },
  {
   "cell_type": "markdown",
   "metadata": {},
   "source": [
    "### BONUS: But how method 3 actually works? what it actually does?\n",
    "in this bounus section I will manally calculate the difference of means using bootstrap and see if things match"
   ]
  },
  {
   "cell_type": "code",
   "execution_count": 195,
   "metadata": {},
   "outputs": [],
   "source": [
    "sample_size = 1000\n",
    "n_iterations = 10000"
   ]
  },
  {
   "cell_type": "code",
   "execution_count": 181,
   "metadata": {},
   "outputs": [],
   "source": [
    "diff_of_means = []\n",
    "\n",
    "for _ in range(n_iterations):\n",
    "    sampled_a = np.random.choice(X1, sample_size, replace=True)\n",
    "    sampled_b = np.random.choice(X2, sample_size, replace=True)\n",
    "\n",
    "    diff_of_means.append(sampled_a.mean() - sampled_b.mean())"
   ]
  },
  {
   "cell_type": "code",
   "execution_count": 182,
   "metadata": {},
   "outputs": [
    {
     "name": "stdout",
     "output_type": "stream",
     "text": [
      "The variant A differ from variant B of 10.5 %\n",
      "Difference of means interval (0.062, 0.14800000000000002)\n",
      "Results are significant!\n"
     ]
    }
   ],
   "source": [
    "percentage_improvement = np.mean(diff_of_means)\n",
    "interval = (np.percentile(diff_of_means, 2.5), np.percentile(diff_of_means, 97.5))\n",
    "\n",
    "print('The variant A differ from variant B of {} %'.format(round(percentage_improvement*100,2)))\n",
    "print('Difference of means interval {}'.format(interval))\n",
    "\n",
    "if interval[0] > 0 > interval[1] or interval[0] < 0 < interval[1]:\n",
    "    print('Results are not significant!')\n",
    "else:\n",
    "    print('Results are significant!')"
   ]
  },
  {
   "cell_type": "markdown",
   "metadata": {},
   "source": [
    "The difference of means interval should match, or be very similar to those calculated in method 3."
   ]
  },
  {
   "cell_type": "markdown",
   "metadata": {},
   "source": [
    "You can play around with paramenters at the top of this notebook to see how things changes and significance peroforms in the three methods."
   ]
  },
  {
   "cell_type": "code",
   "execution_count": null,
   "metadata": {},
   "outputs": [],
   "source": []
  }
 ],
 "metadata": {
  "kernelspec": {
   "display_name": "Python 3",
   "language": "python",
   "name": "python3"
  },
  "language_info": {
   "codemirror_mode": {
    "name": "ipython",
    "version": 3
   },
   "file_extension": ".py",
   "mimetype": "text/x-python",
   "name": "python",
   "nbconvert_exporter": "python",
   "pygments_lexer": "ipython3",
   "version": "3.7.1"
  }
 },
 "nbformat": 4,
 "nbformat_minor": 2
}
