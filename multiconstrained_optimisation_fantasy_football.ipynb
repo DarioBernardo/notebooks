{
 "cells": [
  {
   "cell_type": "markdown",
   "metadata": {},
   "source": [
    "## A Multiconstrained optimisation problem, finding the best fantasy football team\n",
    "\n",
    "**The data**: Is downloaded from [official fantasy premier league](www.fantasy.premierleague.com) website.\n",
    "\n",
    "This was inspired by this [medium](https://medium.com/@kangeugine/fantasy-football-as-a-data-scientist-part-2-knapsack-problem-6b7083955e93) post."
   ]
  },
  {
   "cell_type": "markdown",
   "metadata": {},
   "source": [
    "Selecting 'x' number players with £100 limit can also be looked as a knapsack problem ([wiki](https://en.wikipedia.org/wiki/Knapsack_problem)), a classic optimization problem. Given a set of items, each with a weight and a value, determine the number of each item to include in a collection so that the total weight is less than or equal to a given limit and the total value is as large as possible. \n",
    "\n",
    "Our problem though is slightly different, we have additional constraints to the classic knapsack problem. As the matter of the fact we also need to satisfy the following requirements:\n",
    "\n",
    " - \"Total 15 Players\"\n",
    " - \"Only 2 GK\"\n",
    " - \"Less than 4 DEF\"\n",
    " - \"Less than 5 MID\"\n",
    " - \"Less than 3 STR\"\n",
    "\n",
    "\n",
    "This becomes a multidimensional knapsack problem, and the traditional tools fall short. We can define the problem as a multiconstrained optimization binary problem and solve it with the package 'pulp'. Here is how."
   ]
  },
  {
   "cell_type": "code",
   "execution_count": 1,
   "metadata": {},
   "outputs": [],
   "source": [
    "%load_ext autoreload\n",
    "%autoreload 2"
   ]
  },
  {
   "cell_type": "code",
   "execution_count": 2,
   "metadata": {},
   "outputs": [],
   "source": [
    "import numpy as np\n",
    "import pandas as pd\n",
    "import requests\n",
    "import json\n",
    "import seaborn as sns\n",
    "import matplotlib.pyplot as plt\n",
    "\n",
    "%matplotlib inline"
   ]
  },
  {
   "cell_type": "code",
   "execution_count": 8,
   "metadata": {},
   "outputs": [],
   "source": [
    "plt.rcParams['figure.figsize'] = (15.0, 15.0) # set default size of plots\n",
    "plt.rcParams['image.interpolation'] = 'nearest'\n",
    "plt.rcParams['image.cmap'] = 'gray'"
   ]
  },
  {
   "cell_type": "markdown",
   "metadata": {},
   "source": [
    "## Get the data"
   ]
  },
  {
   "cell_type": "code",
   "execution_count": 3,
   "metadata": {},
   "outputs": [],
   "source": [
    "url = 'https://fantasy.premierleague.com/api/bootstrap-static/'\n",
    "JSONContent = requests.get(url).json()"
   ]
  },
  {
   "cell_type": "code",
   "execution_count": 4,
   "metadata": {},
   "outputs": [],
   "source": [
    "players = pd.DataFrame(JSONContent['elements'])\n",
    "events = pd.DataFrame(JSONContent['events'])\n",
    "phases = pd.DataFrame(JSONContent['phases'])\n",
    "teams = pd.DataFrame(JSONContent['teams'])\n",
    "total_players = JSONContent['total_players']\n",
    "game_settings = JSONContent['game_settings']"
   ]
  },
  {
   "cell_type": "markdown",
   "metadata": {},
   "source": [
    "## Preprocess the data for the optimisation problem"
   ]
  },
  {
   "cell_type": "code",
   "execution_count": 6,
   "metadata": {},
   "outputs": [
    {
     "name": "stderr",
     "output_type": "stream",
     "text": [
      "/usr/local/lib/python3.7/site-packages/ipykernel_launcher.py:2: SettingWithCopyWarning: \n",
      "A value is trying to be set on a copy of a slice from a DataFrame.\n",
      "Try using .loc[row_indexer,col_indexer] = value instead\n",
      "\n",
      "See the caveats in the documentation: http://pandas.pydata.org/pandas-docs/stable/indexing.html#indexing-view-versus-copy\n",
      "  \n",
      "/usr/local/lib/python3.7/site-packages/ipykernel_launcher.py:3: SettingWithCopyWarning: \n",
      "A value is trying to be set on a copy of a slice from a DataFrame.\n",
      "Try using .loc[row_indexer,col_indexer] = value instead\n",
      "\n",
      "See the caveats in the documentation: http://pandas.pydata.org/pandas-docs/stable/indexing.html#indexing-view-versus-copy\n",
      "  This is separate from the ipykernel package so we can avoid doing imports until\n"
     ]
    },
    {
     "data": {
      "text/html": [
       "<div>\n",
       "<style scoped>\n",
       "    .dataframe tbody tr th:only-of-type {\n",
       "        vertical-align: middle;\n",
       "    }\n",
       "\n",
       "    .dataframe tbody tr th {\n",
       "        vertical-align: top;\n",
       "    }\n",
       "\n",
       "    .dataframe thead th {\n",
       "        text-align: right;\n",
       "    }\n",
       "</style>\n",
       "<table border=\"1\" class=\"dataframe\">\n",
       "  <thead>\n",
       "    <tr style=\"text-align: right;\">\n",
       "      <th></th>\n",
       "      <th>first_name</th>\n",
       "      <th>second_name</th>\n",
       "      <th>position</th>\n",
       "      <th>cost</th>\n",
       "      <th>total_points</th>\n",
       "    </tr>\n",
       "  </thead>\n",
       "  <tbody>\n",
       "    <tr>\n",
       "      <th>338</th>\n",
       "      <td>David</td>\n",
       "      <td>McGoldrick</td>\n",
       "      <td>STR</td>\n",
       "      <td>55</td>\n",
       "      <td>0</td>\n",
       "    </tr>\n",
       "    <tr>\n",
       "      <th>418</th>\n",
       "      <td>Etienne</td>\n",
       "      <td>Capoue</td>\n",
       "      <td>MID</td>\n",
       "      <td>50</td>\n",
       "      <td>79</td>\n",
       "    </tr>\n",
       "    <tr>\n",
       "      <th>175</th>\n",
       "      <td>Theo</td>\n",
       "      <td>Walcott</td>\n",
       "      <td>MID</td>\n",
       "      <td>65</td>\n",
       "      <td>101</td>\n",
       "    </tr>\n",
       "    <tr>\n",
       "      <th>283</th>\n",
       "      <td>DeAndre</td>\n",
       "      <td>Yedlin</td>\n",
       "      <td>DEF</td>\n",
       "      <td>45</td>\n",
       "      <td>63</td>\n",
       "    </tr>\n",
       "    <tr>\n",
       "      <th>244</th>\n",
       "      <td>Riyad</td>\n",
       "      <td>Mahrez</td>\n",
       "      <td>MID</td>\n",
       "      <td>85</td>\n",
       "      <td>102</td>\n",
       "    </tr>\n",
       "    <tr>\n",
       "      <th>236</th>\n",
       "      <td>Danilo Luiz</td>\n",
       "      <td>da Silva</td>\n",
       "      <td>DEF</td>\n",
       "      <td>50</td>\n",
       "      <td>46</td>\n",
       "    </tr>\n",
       "    <tr>\n",
       "      <th>313</th>\n",
       "      <td>Emiliano</td>\n",
       "      <td>Buendía</td>\n",
       "      <td>MID</td>\n",
       "      <td>60</td>\n",
       "      <td>0</td>\n",
       "    </tr>\n",
       "    <tr>\n",
       "      <th>123</th>\n",
       "      <td>Andreas</td>\n",
       "      <td>Christensen</td>\n",
       "      <td>DEF</td>\n",
       "      <td>50</td>\n",
       "      <td>22</td>\n",
       "    </tr>\n",
       "    <tr>\n",
       "      <th>303</th>\n",
       "      <td>Ben</td>\n",
       "      <td>Godfrey</td>\n",
       "      <td>DEF</td>\n",
       "      <td>45</td>\n",
       "      <td>0</td>\n",
       "    </tr>\n",
       "    <tr>\n",
       "      <th>149</th>\n",
       "      <td>Martin</td>\n",
       "      <td>Kelly</td>\n",
       "      <td>DEF</td>\n",
       "      <td>40</td>\n",
       "      <td>26</td>\n",
       "    </tr>\n",
       "  </tbody>\n",
       "</table>\n",
       "</div>"
      ],
      "text/plain": [
       "      first_name  second_name position  cost  total_points\n",
       "338        David   McGoldrick      STR    55             0\n",
       "418      Etienne       Capoue      MID    50            79\n",
       "175         Theo      Walcott      MID    65           101\n",
       "283      DeAndre       Yedlin      DEF    45            63\n",
       "244        Riyad       Mahrez      MID    85           102\n",
       "236  Danilo Luiz     da Silva      DEF    50            46\n",
       "313     Emiliano      Buendía      MID    60             0\n",
       "123      Andreas  Christensen      DEF    50            22\n",
       "303          Ben      Godfrey      DEF    45             0\n",
       "149       Martin        Kelly      DEF    40            26"
      ]
     },
     "execution_count": 6,
     "metadata": {},
     "output_type": "execute_result"
    }
   ],
   "source": [
    "data = players[['first_name', 'second_name','element_type', 'now_cost', 'total_points']]\n",
    "data['total_points'] = data['total_points'].astype(int)\n",
    "data['now_cost'] = data['now_cost'].astype(int)\n",
    "\n",
    "data = data.rename(columns={'now_cost':'cost', 'element_type':'position'})\n",
    "positions_dict = {1: \"GK\", 2: \"DEF\", 3: \"MID\", 4:\"STR\"}\n",
    "data.replace({\"position\": positions_dict}, inplace=True)\n",
    "data.sample(10)"
   ]
  },
  {
   "cell_type": "markdown",
   "metadata": {},
   "source": [
    "## EDA"
   ]
  },
  {
   "cell_type": "code",
   "execution_count": 9,
   "metadata": {},
   "outputs": [
    {
     "data": {
      "image/png": "[encoded data removed]",
      "text/plain": [
       "<Figure size 1080x1080 with 1 Axes>"
      ]
     },
     "metadata": {
      "needs_background": "light"
     },
     "output_type": "display_data"
    }
   ],
   "source": [
    "ax = sns.scatterplot(x=\"cost\", y=\"total_points\", hue=\"position\", data=data)"
   ]
  },
  {
   "cell_type": "markdown",
   "metadata": {},
   "source": [
    "## SOLVE OPTIMISATION PROBLEM"
   ]
  },
  {
   "cell_type": "code",
   "execution_count": 10,
   "metadata": {},
   "outputs": [
    {
     "name": "stdout",
     "output_type": "stream",
     "text": [
      "Problem solution is Optimal\n",
      "Score obtained is 2554.00\n"
     ]
    }
   ],
   "source": [
    "from pulp import *\n",
    "\n",
    "player = [str(i) for i in range(data.shape[0])]\n",
    "point = {str(i): data['total_points'][i] for i in range(data.shape[0])} \n",
    "cost = {str(i): data['cost'][i] for i in range(data.shape[0])}\n",
    "gk = {str(i): 1 if data['position'][i] == 'GK' else 0 for i in range(data.shape[0])}\n",
    "defe = {str(i): 1 if data['position'][i] == 'DEF' else 0 for i in range(data.shape[0])}\n",
    "mid = {str(i): 1 if data['position'][i] == 'MID' else 0 for i in range(data.shape[0])}\n",
    "stri = {str(i): 1 if data['position'][i] == 'STR' else 0 for i in range(data.shape[0])}\n",
    "xi = {str(i): 1 for i in range(data.shape[0])}\n",
    "\n",
    "prob = LpProblem(\"Fantasy Football\",LpMaximize)\n",
    "player_vars = LpVariable.dicts(\"Players\",player,0,1,LpBinary)\n",
    "\n",
    "# objective function\n",
    "prob += lpSum([point[i]*player_vars[i] for i in player]), \"Total Cost\"\n",
    "\n",
    "# constraint\n",
    "prob += lpSum([player_vars[i] for i in player]) <= 15, \"Total 15 Players\"\n",
    "prob += lpSum([cost[i] * player_vars[i] for i in player]) <= 1_000.0, \"Total Cost\"\n",
    "prob += lpSum([gk[i] * player_vars[i] for i in player]) <= 2, \"Only 2 GK\"\n",
    "prob += lpSum([defe[i] * player_vars[i] for i in player]) <= 5, \"Less than 4 DEF\"\n",
    "prob += lpSum([mid[i] * player_vars[i] for i in player]) <= 5, \"Less than 5 MID\"\n",
    "prob += lpSum([stri[i] * player_vars[i] for i in player]) <= 3, \"Less than 3 STR\"\n",
    "\n",
    "# solve\n",
    "status = prob.solve()\n",
    "print(\"Problem solution is {}\".format(LpStatus[status]))\n",
    "if LpStatus[status] == 'Optimal':\n",
    "    print(\"Score obtained is {:.2f}\".format(value(prob.objective)))"
   ]
  },
  {
   "cell_type": "code",
   "execution_count": 11,
   "metadata": {},
   "outputs": [
    {
     "name": "stdout",
     "output_type": "stream",
     "text": [
      "SELECTED PLAYER LIST:\n"
     ]
    },
    {
     "data": {
      "text/html": [
       "<div>\n",
       "<style scoped>\n",
       "    .dataframe tbody tr th:only-of-type {\n",
       "        vertical-align: middle;\n",
       "    }\n",
       "\n",
       "    .dataframe tbody tr th {\n",
       "        vertical-align: top;\n",
       "    }\n",
       "\n",
       "    .dataframe thead th {\n",
       "        text-align: right;\n",
       "    }\n",
       "</style>\n",
       "<table border=\"1\" class=\"dataframe\">\n",
       "  <thead>\n",
       "    <tr style=\"text-align: right;\">\n",
       "      <th></th>\n",
       "      <th>first_name</th>\n",
       "      <th>second_name</th>\n",
       "      <th>position</th>\n",
       "      <th>cost</th>\n",
       "      <th>total_points</th>\n",
       "    </tr>\n",
       "  </thead>\n",
       "  <tbody>\n",
       "    <tr>\n",
       "      <th>121</th>\n",
       "      <td>David</td>\n",
       "      <td>Luiz Moreira Marinho</td>\n",
       "      <td>DEF</td>\n",
       "      <td>60</td>\n",
       "      <td>164</td>\n",
       "    </tr>\n",
       "    <tr>\n",
       "      <th>155</th>\n",
       "      <td>Luka</td>\n",
       "      <td>Milivojevic</td>\n",
       "      <td>MID</td>\n",
       "      <td>70</td>\n",
       "      <td>166</td>\n",
       "    </tr>\n",
       "    <tr>\n",
       "      <th>156</th>\n",
       "      <td>Andros</td>\n",
       "      <td>Townsend</td>\n",
       "      <td>MID</td>\n",
       "      <td>60</td>\n",
       "      <td>135</td>\n",
       "    </tr>\n",
       "    <tr>\n",
       "      <th>170</th>\n",
       "      <td>Jordan</td>\n",
       "      <td>Pickford</td>\n",
       "      <td>GK</td>\n",
       "      <td>55</td>\n",
       "      <td>161</td>\n",
       "    </tr>\n",
       "    <tr>\n",
       "      <th>173</th>\n",
       "      <td>Gylfi</td>\n",
       "      <td>Sigurdsson</td>\n",
       "      <td>MID</td>\n",
       "      <td>80</td>\n",
       "      <td>182</td>\n",
       "    </tr>\n",
       "    <tr>\n",
       "      <th>208</th>\n",
       "      <td>Andrew</td>\n",
       "      <td>Robertson</td>\n",
       "      <td>DEF</td>\n",
       "      <td>70</td>\n",
       "      <td>213</td>\n",
       "    </tr>\n",
       "    <tr>\n",
       "      <th>209</th>\n",
       "      <td>Trent</td>\n",
       "      <td>Alexander-Arnold</td>\n",
       "      <td>DEF</td>\n",
       "      <td>70</td>\n",
       "      <td>185</td>\n",
       "    </tr>\n",
       "    <tr>\n",
       "      <th>210</th>\n",
       "      <td>Virgil</td>\n",
       "      <td>van Dijk</td>\n",
       "      <td>DEF</td>\n",
       "      <td>65</td>\n",
       "      <td>208</td>\n",
       "    </tr>\n",
       "    <tr>\n",
       "      <th>216</th>\n",
       "      <td>Alisson</td>\n",
       "      <td>Ramses Becker</td>\n",
       "      <td>GK</td>\n",
       "      <td>60</td>\n",
       "      <td>176</td>\n",
       "    </tr>\n",
       "    <tr>\n",
       "      <th>230</th>\n",
       "      <td>Aymeric</td>\n",
       "      <td>Laporte</td>\n",
       "      <td>DEF</td>\n",
       "      <td>65</td>\n",
       "      <td>177</td>\n",
       "    </tr>\n",
       "    <tr>\n",
       "      <th>436</th>\n",
       "      <td>Felipe Anderson</td>\n",
       "      <td>Pereira Gomes</td>\n",
       "      <td>MID</td>\n",
       "      <td>70</td>\n",
       "      <td>155</td>\n",
       "    </tr>\n",
       "    <tr>\n",
       "      <th>457</th>\n",
       "      <td>Raúl</td>\n",
       "      <td>Jiménez</td>\n",
       "      <td>STR</td>\n",
       "      <td>75</td>\n",
       "      <td>181</td>\n",
       "    </tr>\n",
       "    <tr>\n",
       "      <th>58</th>\n",
       "      <td>Joshua</td>\n",
       "      <td>King</td>\n",
       "      <td>STR</td>\n",
       "      <td>65</td>\n",
       "      <td>141</td>\n",
       "    </tr>\n",
       "    <tr>\n",
       "      <th>64</th>\n",
       "      <td>Ryan</td>\n",
       "      <td>Fraser</td>\n",
       "      <td>MID</td>\n",
       "      <td>75</td>\n",
       "      <td>181</td>\n",
       "    </tr>\n",
       "    <tr>\n",
       "      <th>80</th>\n",
       "      <td>Glenn</td>\n",
       "      <td>Murray</td>\n",
       "      <td>STR</td>\n",
       "      <td>60</td>\n",
       "      <td>129</td>\n",
       "    </tr>\n",
       "  </tbody>\n",
       "</table>\n",
       "</div>"
      ],
      "text/plain": [
       "          first_name           second_name position  cost  total_points\n",
       "121            David  Luiz Moreira Marinho      DEF    60           164\n",
       "155             Luka           Milivojevic      MID    70           166\n",
       "156           Andros              Townsend      MID    60           135\n",
       "170           Jordan              Pickford       GK    55           161\n",
       "173            Gylfi            Sigurdsson      MID    80           182\n",
       "208           Andrew             Robertson      DEF    70           213\n",
       "209            Trent      Alexander-Arnold      DEF    70           185\n",
       "210           Virgil              van Dijk      DEF    65           208\n",
       "216          Alisson         Ramses Becker       GK    60           176\n",
       "230          Aymeric               Laporte      DEF    65           177\n",
       "436  Felipe Anderson         Pereira Gomes      MID    70           155\n",
       "457             Raúl               Jiménez      STR    75           181\n",
       "58            Joshua                  King      STR    65           141\n",
       "64              Ryan                Fraser      MID    75           181\n",
       "80             Glenn                Murray      STR    60           129"
      ]
     },
     "execution_count": 11,
     "metadata": {},
     "output_type": "execute_result"
    }
   ],
   "source": [
    "selected_players = []\n",
    "for v in prob.variables():\n",
    "    if v.varValue == 1.0:\n",
    "#         print(v.name, \"=\", v.varValue)\n",
    "        index = v.name.split(\"_\")[1]\n",
    "        selected_players.append(int(index))\n",
    "        \n",
    "print(\"SELECTED PLAYER LIST:\")\n",
    "data.iloc[selected_players, :]"
   ]
  },
  {
   "cell_type": "code",
   "execution_count": 12,
   "metadata": {},
   "outputs": [
    {
     "name": "stdout",
     "output_type": "stream",
     "text": [
      "The total cost of the team is 1000 £\n"
     ]
    }
   ],
   "source": [
    "team_cost = data.iloc[selected_players,3].sum()\n",
    "print(f\"The total cost of the team is {team_cost} £\")"
   ]
  },
  {
   "cell_type": "markdown",
   "metadata": {},
   "source": [
    "## Explore solution"
   ]
  },
  {
   "cell_type": "markdown",
   "metadata": {},
   "source": [
    "Let's look at where the team sit in the scatter plot"
   ]
  },
  {
   "cell_type": "code",
   "execution_count": 13,
   "metadata": {},
   "outputs": [],
   "source": [
    "selected = np.zeros(len(data))\n",
    "selected[selected_players] = 1.0\n",
    "data['selected'] = selected"
   ]
  },
  {
   "cell_type": "code",
   "execution_count": 14,
   "metadata": {},
   "outputs": [
    {
     "data": {
      "image/png": "[encoded data removed]",
      "text/plain": [
       "<Figure size 1080x1080 with 1 Axes>"
      ]
     },
     "metadata": {
      "needs_background": "light"
     },
     "output_type": "display_data"
    }
   ],
   "source": [
    "ax = sns.scatterplot(x=\"cost\", y=\"total_points\", hue=\"position\", size='selected',sizes=(400, 40), style='selected', data=data)"
   ]
  },
  {
   "cell_type": "markdown",
   "metadata": {},
   "source": [
    "## A greedy algorithm approach"
   ]
  },
  {
   "cell_type": "code",
   "execution_count": 15,
   "metadata": {},
   "outputs": [],
   "source": [
    "greedy_df = data.sort_values(by='total_points', ascending=False).head(16)"
   ]
  },
  {
   "cell_type": "code",
   "execution_count": 17,
   "metadata": {},
   "outputs": [
    {
     "data": {
      "text/plain": [
       "1385"
      ]
     },
     "execution_count": 17,
     "metadata": {},
     "output_type": "execute_result"
    }
   ],
   "source": [
    "greedy_df['cost'].sum()"
   ]
  },
  {
   "cell_type": "code",
   "execution_count": 18,
   "metadata": {},
   "outputs": [
    {
     "data": {
      "text/html": [
       "<div>\n",
       "<style scoped>\n",
       "    .dataframe tbody tr th:only-of-type {\n",
       "        vertical-align: middle;\n",
       "    }\n",
       "\n",
       "    .dataframe tbody tr th {\n",
       "        vertical-align: top;\n",
       "    }\n",
       "\n",
       "    .dataframe thead th {\n",
       "        text-align: right;\n",
       "    }\n",
       "</style>\n",
       "<table border=\"1\" class=\"dataframe\">\n",
       "  <thead>\n",
       "    <tr style=\"text-align: right;\">\n",
       "      <th></th>\n",
       "      <th>first_name</th>\n",
       "      <th>second_name</th>\n",
       "      <th>position</th>\n",
       "      <th>cost</th>\n",
       "      <th>total_points</th>\n",
       "      <th>selected</th>\n",
       "    </tr>\n",
       "  </thead>\n",
       "  <tbody>\n",
       "    <tr>\n",
       "      <th>218</th>\n",
       "      <td>Mohamed</td>\n",
       "      <td>Salah</td>\n",
       "      <td>MID</td>\n",
       "      <td>125</td>\n",
       "      <td>259</td>\n",
       "      <td>0.0</td>\n",
       "    </tr>\n",
       "    <tr>\n",
       "      <th>241</th>\n",
       "      <td>Raheem</td>\n",
       "      <td>Sterling</td>\n",
       "      <td>MID</td>\n",
       "      <td>120</td>\n",
       "      <td>234</td>\n",
       "      <td>0.0</td>\n",
       "    </tr>\n",
       "    <tr>\n",
       "      <th>219</th>\n",
       "      <td>Sadio</td>\n",
       "      <td>Mané</td>\n",
       "      <td>MID</td>\n",
       "      <td>115</td>\n",
       "      <td>231</td>\n",
       "      <td>0.0</td>\n",
       "    </tr>\n",
       "    <tr>\n",
       "      <th>208</th>\n",
       "      <td>Andrew</td>\n",
       "      <td>Robertson</td>\n",
       "      <td>DEF</td>\n",
       "      <td>70</td>\n",
       "      <td>213</td>\n",
       "      <td>1.0</td>\n",
       "    </tr>\n",
       "    <tr>\n",
       "      <th>210</th>\n",
       "      <td>Virgil</td>\n",
       "      <td>van Dijk</td>\n",
       "      <td>DEF</td>\n",
       "      <td>65</td>\n",
       "      <td>208</td>\n",
       "      <td>1.0</td>\n",
       "    </tr>\n",
       "    <tr>\n",
       "      <th>10</th>\n",
       "      <td>Pierre-Emerick</td>\n",
       "      <td>Aubameyang</td>\n",
       "      <td>STR</td>\n",
       "      <td>110</td>\n",
       "      <td>205</td>\n",
       "      <td>0.0</td>\n",
       "    </tr>\n",
       "    <tr>\n",
       "      <th>237</th>\n",
       "      <td>Sergio</td>\n",
       "      <td>Agüero</td>\n",
       "      <td>STR</td>\n",
       "      <td>120</td>\n",
       "      <td>201</td>\n",
       "      <td>0.0</td>\n",
       "    </tr>\n",
       "    <tr>\n",
       "      <th>209</th>\n",
       "      <td>Trent</td>\n",
       "      <td>Alexander-Arnold</td>\n",
       "      <td>DEF</td>\n",
       "      <td>70</td>\n",
       "      <td>185</td>\n",
       "      <td>1.0</td>\n",
       "    </tr>\n",
       "    <tr>\n",
       "      <th>173</th>\n",
       "      <td>Gylfi</td>\n",
       "      <td>Sigurdsson</td>\n",
       "      <td>MID</td>\n",
       "      <td>80</td>\n",
       "      <td>182</td>\n",
       "      <td>1.0</td>\n",
       "    </tr>\n",
       "    <tr>\n",
       "      <th>64</th>\n",
       "      <td>Ryan</td>\n",
       "      <td>Fraser</td>\n",
       "      <td>MID</td>\n",
       "      <td>75</td>\n",
       "      <td>181</td>\n",
       "      <td>1.0</td>\n",
       "    </tr>\n",
       "    <tr>\n",
       "      <th>457</th>\n",
       "      <td>Raúl</td>\n",
       "      <td>Jiménez</td>\n",
       "      <td>STR</td>\n",
       "      <td>75</td>\n",
       "      <td>181</td>\n",
       "      <td>1.0</td>\n",
       "    </tr>\n",
       "    <tr>\n",
       "      <th>268</th>\n",
       "      <td>Paul</td>\n",
       "      <td>Pogba</td>\n",
       "      <td>MID</td>\n",
       "      <td>85</td>\n",
       "      <td>179</td>\n",
       "      <td>0.0</td>\n",
       "    </tr>\n",
       "    <tr>\n",
       "      <th>230</th>\n",
       "      <td>Aymeric</td>\n",
       "      <td>Laporte</td>\n",
       "      <td>DEF</td>\n",
       "      <td>65</td>\n",
       "      <td>177</td>\n",
       "      <td>1.0</td>\n",
       "    </tr>\n",
       "    <tr>\n",
       "      <th>216</th>\n",
       "      <td>Alisson</td>\n",
       "      <td>Ramses Becker</td>\n",
       "      <td>GK</td>\n",
       "      <td>60</td>\n",
       "      <td>176</td>\n",
       "      <td>1.0</td>\n",
       "    </tr>\n",
       "    <tr>\n",
       "      <th>190</th>\n",
       "      <td>Jamie</td>\n",
       "      <td>Vardy</td>\n",
       "      <td>STR</td>\n",
       "      <td>90</td>\n",
       "      <td>174</td>\n",
       "      <td>0.0</td>\n",
       "    </tr>\n",
       "    <tr>\n",
       "      <th>239</th>\n",
       "      <td>Ederson</td>\n",
       "      <td>Santana de Moraes</td>\n",
       "      <td>GK</td>\n",
       "      <td>60</td>\n",
       "      <td>169</td>\n",
       "      <td>0.0</td>\n",
       "    </tr>\n",
       "  </tbody>\n",
       "</table>\n",
       "</div>"
      ],
      "text/plain": [
       "         first_name        second_name position  cost  total_points  selected\n",
       "218         Mohamed              Salah      MID   125           259       0.0\n",
       "241          Raheem           Sterling      MID   120           234       0.0\n",
       "219           Sadio               Mané      MID   115           231       0.0\n",
       "208          Andrew          Robertson      DEF    70           213       1.0\n",
       "210          Virgil           van Dijk      DEF    65           208       1.0\n",
       "10   Pierre-Emerick         Aubameyang      STR   110           205       0.0\n",
       "237          Sergio             Agüero      STR   120           201       0.0\n",
       "209           Trent   Alexander-Arnold      DEF    70           185       1.0\n",
       "173           Gylfi         Sigurdsson      MID    80           182       1.0\n",
       "64             Ryan             Fraser      MID    75           181       1.0\n",
       "457            Raúl            Jiménez      STR    75           181       1.0\n",
       "268            Paul              Pogba      MID    85           179       0.0\n",
       "230         Aymeric            Laporte      DEF    65           177       1.0\n",
       "216         Alisson      Ramses Becker       GK    60           176       1.0\n",
       "190           Jamie              Vardy      STR    90           174       0.0\n",
       "239         Ederson  Santana de Moraes       GK    60           169       0.0"
      ]
     },
     "execution_count": 18,
     "metadata": {},
     "output_type": "execute_result"
    }
   ],
   "source": [
    "greedy_df"
   ]
  },
  {
   "cell_type": "code",
   "execution_count": null,
   "metadata": {},
   "outputs": [],
   "source": []
  }
 ],
 "metadata": {
  "kernelspec": {
   "display_name": "Python 3",
   "language": "python",
   "name": "python3"
  },
  "language_info": {
   "codemirror_mode": {
    "name": "ipython",
    "version": 3
   },
   "file_extension": ".py",
   "mimetype": "text/x-python",
   "name": "python",
   "nbconvert_exporter": "python",
   "pygments_lexer": "ipython3",
   "version": "3.7.3"
  }
 },
 "nbformat": 4,
 "nbformat_minor": 2
}
